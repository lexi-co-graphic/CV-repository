{
 "cells": [
  {
   "cell_type": "markdown",
   "id": "a3b92d0b-4463-4708-9333-8da1e4510cea",
   "metadata": {
    "slideshow": {
     "slide_type": "slide"
    },
    "tags": [],
    "user_expressions": []
   },
   "source": [
    "# LEXI EID\n",
    "\n",
    "`leid@smu.edu ▪ linkedin.com/in/lexi-eid-55853169 ▪ 719-331-1966 ▪ 1645 Colgate Drive, Colorado Springs, CO`"
   ]
  },
  {
   "cell_type": "markdown",
   "id": "0b847870-853b-4748-a6b0-0f4784d6962e",
   "metadata": {
    "slideshow": {
     "slide_type": "slide"
    },
    "tags": [],
    "user_expressions": []
   },
   "source": [
    "## EDUCATION\n",
    "**Southern Methodist University**\t`Dallas, TX`\n",
    "\n",
    "**Dedman College**\t`*Graduation*: May 2023`\n",
    "\n",
    "*Bachelor of Arts*, Triple Major in Economics, French, and Political Science \t`*Cumulative GPA*: 3.84:`\n",
    "\n",
    "*Minors*: History, European Studies \n",
    "* Provost Scholar and IB Graduate Scholar\n",
    "* Richter Fellowship Program for Study Abroad Research\n",
    "* University Honors Program and Pre-Law Scholars Program\n",
    "* SMƱRM-Economics Program for minority representation \n",
    "* Alpha Lambda Delta for first-year academic success "
   ]
  },
  {
   "cell_type": "markdown",
   "id": "25554ebf-754c-4c8a-9f80-7903bb6feaed",
   "metadata": {
    "slideshow": {
     "slide_type": "slide"
    },
    "tags": [],
    "user_expressions": []
   },
   "source": [
    "## EXPERIENCE\n",
    "**Colorado Springs Pulmonary Consultants** \t`Colorado Springs, CO`\n",
    "\n",
    "*Intern* \t`May 2021 – Aug 2021`\n",
    "* Updating legal representation and ensuring physician protection through insurance and billing\n",
    "* Developed a new file management system for physician credentialing\n",
    "* Assisted in training Medical Assistants and improving efficiency of the office staff\n",
    "\n",
    "*Medical Assistant*\t`May 2020 – Aug 2020 and Dec 2020 – Jan 2021`\n",
    "* Improved efficiency of patient care through file maintenance and utilization of electronic medical records systems, and direct patient contact \n",
    "* Increased patient welfare during office visits and ensured personalized follow-up care"
   ]
  },
  {
   "cell_type": "markdown",
   "id": "46388d63-9f3c-41cb-a073-e17473d89f9a",
   "metadata": {
    "slideshow": {
     "slide_type": "slide"
    },
    "tags": [],
    "user_expressions": []
   },
   "source": [
    "## RESEARCH\n",
    "**Schuler Museum of Paleontology – Projecto PaleoAngola**\t`Dallas, TX`\n",
    "\n",
    "*Research Assistant* \t`Jan 2022 – May 2022`\n",
    "* Conducted laboratory work with fossils in rock casts and handled extractions \n",
    "* Created cradles for fossil transport between SMU and Angola Museum \n",
    "\n",
    "## PUBLICATIONS\n",
    "\n",
    "Eid, Lexi and Takeuchi, Hiroki. To be published, 2023. “Adaptation to Globalization: Comparative Authoritarianism of the Middle East.” *Dialogue* vol 9.  \n",
    "* Completion and publication in accordance with Edwin Cox Undergraduate Research Fellowship "
   ]
  },
  {
   "cell_type": "markdown",
   "id": "94c853b9-aa6b-4501-8356-52099416a329",
   "metadata": {
    "slideshow": {
     "slide_type": "slide"
    },
    "tags": [],
    "user_expressions": []
   },
   "source": [
    "## LEADERSHIP & EXTRACURRICULARS\n",
    "**Hegi Career Leader**\t`Dallas, TX`\n",
    "\n",
    "*Student Advisory Board* \t`Aug 2019 - Present`\n",
    "* Engaging with alumni and professional networks in my prospective professional fields \n",
    "* Streamlining faculty-student relations and collecting information to improve student outreach\n",
    "** Co-developed a student outreach survey concerning awareness of the program on-campus \n",
    "\n",
    "**Classical Studies Club**\t`Dallas, TX`\n",
    "\n",
    "*Secretary*\t`Nov 2021 - Present`\n",
    "* Co-running biweekly meetings, including conducting prior research and planning presentations\n",
    "* Running social media accounts, monitoring student engagement, and assisting with student outreach\n",
    "* Designing and publishing promotional material including posters, fliers, and digital material\n",
    "\n",
    "**The Women’s Network**\t`Dallas, TX`\n",
    "\n",
    "*Active Member* `June 2021 - Present`\n",
    "* Oversee campus engagement for TWN on SMU campus and respective online events\n",
    "* Monitoring campus membership and weekly engagement through social media platforms"
   ]
  },
  {
   "cell_type": "markdown",
   "id": "165ad9f0-7077-4d17-90e3-cfa28bc0908b",
   "metadata": {
    "slideshow": {
     "slide_type": "slide"
    },
    "tags": [],
    "user_expressions": []
   },
   "source": [
    "## SKILLS\n",
    "French: C1 proficiency and 12 years of experience speaking and writing\n",
    "\n",
    "Computer: Comprehensive in Microsoft Office, Canva, and Google Formatting"
   ]
  },
  {
   "cell_type": "code",
   "execution_count": 3,
   "id": "0ef1d10f",
   "metadata": {
    "slideshow": {
     "slide_type": "skip"
    }
   },
   "outputs": [
    {
     "name": "stdout",
     "output_type": "stream",
     "text": [
      "Collecting RISE\n",
      "  Downloading rise-5.7.1-py2.py3-none-any.whl (4.3 MB)\n",
      "     ---------------------------------------- 4.3/4.3 MB 313.9 kB/s eta 0:00:00\n",
      "Requirement already satisfied: notebook>=6.0 in c:\\users\\skand\\anaconda3\\envs\\econgrowthug-builds-windows-pip\\lib\\site-packages (from RISE) (6.4.12)\n",
      "Requirement already satisfied: jinja2 in c:\\users\\skand\\anaconda3\\envs\\econgrowthug-builds-windows-pip\\lib\\site-packages (from notebook>=6.0->RISE) (3.1.2)\n",
      "Requirement already satisfied: nbconvert>=5 in c:\\users\\skand\\anaconda3\\envs\\econgrowthug-builds-windows-pip\\lib\\site-packages (from notebook>=6.0->RISE) (7.0.0)\n",
      "Requirement already satisfied: Send2Trash>=1.8.0 in c:\\users\\skand\\anaconda3\\envs\\econgrowthug-builds-windows-pip\\lib\\site-packages (from notebook>=6.0->RISE) (1.8.0)\n",
      "Requirement already satisfied: jupyter-client>=5.3.4 in c:\\users\\skand\\anaconda3\\envs\\econgrowthug-builds-windows-pip\\lib\\site-packages (from notebook>=6.0->RISE) (7.3.4)\n",
      "Requirement already satisfied: jupyter-core>=4.6.1 in c:\\users\\skand\\anaconda3\\envs\\econgrowthug-builds-windows-pip\\lib\\site-packages (from notebook>=6.0->RISE) (4.11.1)\n",
      "Requirement already satisfied: ipykernel in c:\\users\\skand\\anaconda3\\envs\\econgrowthug-builds-windows-pip\\lib\\site-packages (from notebook>=6.0->RISE) (6.15.1)\n",
      "Requirement already satisfied: ipython-genutils in c:\\users\\skand\\anaconda3\\envs\\econgrowthug-builds-windows-pip\\lib\\site-packages (from notebook>=6.0->RISE) (0.2.0)\n",
      "Requirement already satisfied: pyzmq>=17 in c:\\users\\skand\\anaconda3\\envs\\econgrowthug-builds-windows-pip\\lib\\site-packages (from notebook>=6.0->RISE) (23.2.1)\n",
      "Requirement already satisfied: terminado>=0.8.3 in c:\\users\\skand\\anaconda3\\envs\\econgrowthug-builds-windows-pip\\lib\\site-packages (from notebook>=6.0->RISE) (0.15.0)\n",
      "Requirement already satisfied: nest-asyncio>=1.5 in c:\\users\\skand\\anaconda3\\envs\\econgrowthug-builds-windows-pip\\lib\\site-packages (from notebook>=6.0->RISE) (1.5.5)\n",
      "Requirement already satisfied: traitlets>=4.2.1 in c:\\users\\skand\\anaconda3\\envs\\econgrowthug-builds-windows-pip\\lib\\site-packages (from notebook>=6.0->RISE) (5.3.0)\n",
      "Requirement already satisfied: prometheus-client in c:\\users\\skand\\anaconda3\\envs\\econgrowthug-builds-windows-pip\\lib\\site-packages (from notebook>=6.0->RISE) (0.14.1)\n",
      "Requirement already satisfied: argon2-cffi in c:\\users\\skand\\anaconda3\\envs\\econgrowthug-builds-windows-pip\\lib\\site-packages (from notebook>=6.0->RISE) (21.3.0)\n",
      "Requirement already satisfied: nbformat in c:\\users\\skand\\anaconda3\\envs\\econgrowthug-builds-windows-pip\\lib\\site-packages (from notebook>=6.0->RISE) (5.4.0)\n",
      "Requirement already satisfied: tornado>=6.1 in c:\\users\\skand\\anaconda3\\envs\\econgrowthug-builds-windows-pip\\lib\\site-packages (from notebook>=6.0->RISE) (6.2)\n",
      "Requirement already satisfied: python-dateutil>=2.8.2 in c:\\users\\skand\\anaconda3\\envs\\econgrowthug-builds-windows-pip\\lib\\site-packages (from jupyter-client>=5.3.4->notebook>=6.0->RISE) (2.8.2)\n",
      "Requirement already satisfied: entrypoints in c:\\users\\skand\\anaconda3\\envs\\econgrowthug-builds-windows-pip\\lib\\site-packages (from jupyter-client>=5.3.4->notebook>=6.0->RISE) (0.4)\n",
      "Requirement already satisfied: pywin32>=1.0 in c:\\users\\skand\\anaconda3\\envs\\econgrowthug-builds-windows-pip\\lib\\site-packages (from jupyter-core>=4.6.1->notebook>=6.0->RISE) (303)\n",
      "Requirement already satisfied: pygments>=2.4.1 in c:\\users\\skand\\anaconda3\\envs\\econgrowthug-builds-windows-pip\\lib\\site-packages (from nbconvert>=5->notebook>=6.0->RISE) (2.13.0)\n",
      "Requirement already satisfied: nbclient>=0.5.0 in c:\\users\\skand\\anaconda3\\envs\\econgrowthug-builds-windows-pip\\lib\\site-packages (from nbconvert>=5->notebook>=6.0->RISE) (0.6.4)\n",
      "Requirement already satisfied: markupsafe>=2.0 in c:\\users\\skand\\anaconda3\\envs\\econgrowthug-builds-windows-pip\\lib\\site-packages (from nbconvert>=5->notebook>=6.0->RISE) (2.1.1)\n",
      "Requirement already satisfied: pandocfilters>=1.4.1 in c:\\users\\skand\\anaconda3\\envs\\econgrowthug-builds-windows-pip\\lib\\site-packages (from nbconvert>=5->notebook>=6.0->RISE) (1.5.0)\n",
      "Requirement already satisfied: tinycss2 in c:\\users\\skand\\anaconda3\\envs\\econgrowthug-builds-windows-pip\\lib\\site-packages (from nbconvert>=5->notebook>=6.0->RISE) (1.1.1)\n",
      "Requirement already satisfied: packaging in c:\\users\\skand\\anaconda3\\envs\\econgrowthug-builds-windows-pip\\lib\\site-packages (from nbconvert>=5->notebook>=6.0->RISE) (21.3)\n",
      "Requirement already satisfied: bleach in c:\\users\\skand\\anaconda3\\envs\\econgrowthug-builds-windows-pip\\lib\\site-packages (from nbconvert>=5->notebook>=6.0->RISE) (5.0.1)\n",
      "Requirement already satisfied: lxml in c:\\users\\skand\\anaconda3\\envs\\econgrowthug-builds-windows-pip\\lib\\site-packages (from nbconvert>=5->notebook>=6.0->RISE) (4.9.1)\n",
      "Requirement already satisfied: mistune<3,>=2.0.3 in c:\\users\\skand\\anaconda3\\envs\\econgrowthug-builds-windows-pip\\lib\\site-packages (from nbconvert>=5->notebook>=6.0->RISE) (2.0.4)\n",
      "Requirement already satisfied: jupyterlab-pygments in c:\\users\\skand\\anaconda3\\envs\\econgrowthug-builds-windows-pip\\lib\\site-packages (from nbconvert>=5->notebook>=6.0->RISE) (0.2.2)\n",
      "Requirement already satisfied: importlib-metadata>=3.6 in c:\\users\\skand\\anaconda3\\envs\\econgrowthug-builds-windows-pip\\lib\\site-packages (from nbconvert>=5->notebook>=6.0->RISE) (4.11.4)\n",
      "Requirement already satisfied: beautifulsoup4 in c:\\users\\skand\\anaconda3\\envs\\econgrowthug-builds-windows-pip\\lib\\site-packages (from nbconvert>=5->notebook>=6.0->RISE) (4.11.1)\n",
      "Requirement already satisfied: defusedxml in c:\\users\\skand\\anaconda3\\envs\\econgrowthug-builds-windows-pip\\lib\\site-packages (from nbconvert>=5->notebook>=6.0->RISE) (0.7.1)\n",
      "Requirement already satisfied: jsonschema>=2.6 in c:\\users\\skand\\anaconda3\\envs\\econgrowthug-builds-windows-pip\\lib\\site-packages (from nbformat->notebook>=6.0->RISE) (4.14.0)\n",
      "Requirement already satisfied: fastjsonschema in c:\\users\\skand\\anaconda3\\envs\\econgrowthug-builds-windows-pip\\lib\\site-packages (from nbformat->notebook>=6.0->RISE) (2.16.1)\n",
      "Requirement already satisfied: pywinpty>=1.1.0 in c:\\users\\skand\\anaconda3\\envs\\econgrowthug-builds-windows-pip\\lib\\site-packages (from terminado>=0.8.3->notebook>=6.0->RISE) (2.0.7)\n",
      "Requirement already satisfied: argon2-cffi-bindings in c:\\users\\skand\\anaconda3\\envs\\econgrowthug-builds-windows-pip\\lib\\site-packages (from argon2-cffi->notebook>=6.0->RISE) (21.2.0)\n",
      "Requirement already satisfied: matplotlib-inline>=0.1 in c:\\users\\skand\\anaconda3\\envs\\econgrowthug-builds-windows-pip\\lib\\site-packages (from ipykernel->notebook>=6.0->RISE) (0.1.6)\n",
      "Requirement already satisfied: psutil in c:\\users\\skand\\anaconda3\\envs\\econgrowthug-builds-windows-pip\\lib\\site-packages (from ipykernel->notebook>=6.0->RISE) (5.9.1)\n",
      "Requirement already satisfied: debugpy>=1.0 in c:\\users\\skand\\anaconda3\\envs\\econgrowthug-builds-windows-pip\\lib\\site-packages (from ipykernel->notebook>=6.0->RISE) (1.6.3)\n",
      "Requirement already satisfied: ipython>=7.23.1 in c:\\users\\skand\\anaconda3\\envs\\econgrowthug-builds-windows-pip\\lib\\site-packages (from ipykernel->notebook>=6.0->RISE) (7.33.0)\n",
      "Requirement already satisfied: zipp>=0.5 in c:\\users\\skand\\anaconda3\\envs\\econgrowthug-builds-windows-pip\\lib\\site-packages (from importlib-metadata>=3.6->nbconvert>=5->notebook>=6.0->RISE) (3.8.1)\n",
      "Requirement already satisfied: jedi>=0.16 in c:\\users\\skand\\anaconda3\\envs\\econgrowthug-builds-windows-pip\\lib\\site-packages (from ipython>=7.23.1->ipykernel->notebook>=6.0->RISE) (0.18.1)\n",
      "Requirement already satisfied: colorama in c:\\users\\skand\\anaconda3\\envs\\econgrowthug-builds-windows-pip\\lib\\site-packages (from ipython>=7.23.1->ipykernel->notebook>=6.0->RISE) (0.4.5)\n",
      "Requirement already satisfied: decorator in c:\\users\\skand\\anaconda3\\envs\\econgrowthug-builds-windows-pip\\lib\\site-packages (from ipython>=7.23.1->ipykernel->notebook>=6.0->RISE) (5.1.1)\n",
      "Requirement already satisfied: prompt-toolkit!=3.0.0,!=3.0.1,<3.1.0,>=2.0.0 in c:\\users\\skand\\anaconda3\\envs\\econgrowthug-builds-windows-pip\\lib\\site-packages (from ipython>=7.23.1->ipykernel->notebook>=6.0->RISE) (3.0.30)\n",
      "Requirement already satisfied: backcall in c:\\users\\skand\\anaconda3\\envs\\econgrowthug-builds-windows-pip\\lib\\site-packages (from ipython>=7.23.1->ipykernel->notebook>=6.0->RISE) (0.2.0)\n",
      "Requirement already satisfied: pickleshare in c:\\users\\skand\\anaconda3\\envs\\econgrowthug-builds-windows-pip\\lib\\site-packages (from ipython>=7.23.1->ipykernel->notebook>=6.0->RISE) (0.7.5)\n",
      "Requirement already satisfied: setuptools>=18.5 in c:\\users\\skand\\anaconda3\\envs\\econgrowthug-builds-windows-pip\\lib\\site-packages (from ipython>=7.23.1->ipykernel->notebook>=6.0->RISE) (65.3.0)\n",
      "Requirement already satisfied: pyrsistent!=0.17.0,!=0.17.1,!=0.17.2,>=0.14.0 in c:\\users\\skand\\anaconda3\\envs\\econgrowthug-builds-windows-pip\\lib\\site-packages (from jsonschema>=2.6->nbformat->notebook>=6.0->RISE) (0.18.1)\n",
      "Requirement already satisfied: attrs>=17.4.0 in c:\\users\\skand\\anaconda3\\envs\\econgrowthug-builds-windows-pip\\lib\\site-packages (from jsonschema>=2.6->nbformat->notebook>=6.0->RISE) (22.1.0)\n",
      "Requirement already satisfied: six>=1.5 in c:\\users\\skand\\anaconda3\\envs\\econgrowthug-builds-windows-pip\\lib\\site-packages (from python-dateutil>=2.8.2->jupyter-client>=5.3.4->notebook>=6.0->RISE) (1.16.0)\n",
      "Requirement already satisfied: cffi>=1.0.1 in c:\\users\\skand\\anaconda3\\envs\\econgrowthug-builds-windows-pip\\lib\\site-packages (from argon2-cffi-bindings->argon2-cffi->notebook>=6.0->RISE) (1.15.1)\n",
      "Requirement already satisfied: soupsieve>1.2 in c:\\users\\skand\\anaconda3\\envs\\econgrowthug-builds-windows-pip\\lib\\site-packages (from beautifulsoup4->nbconvert>=5->notebook>=6.0->RISE) (2.3.2.post1)\n",
      "Requirement already satisfied: webencodings in c:\\users\\skand\\anaconda3\\envs\\econgrowthug-builds-windows-pip\\lib\\site-packages (from bleach->nbconvert>=5->notebook>=6.0->RISE) (0.5.1)\n",
      "Requirement already satisfied: pyparsing!=3.0.5,>=2.0.2 in c:\\users\\skand\\anaconda3\\envs\\econgrowthug-builds-windows-pip\\lib\\site-packages (from packaging->nbconvert>=5->notebook>=6.0->RISE) (3.0.9)\n",
      "Requirement already satisfied: pycparser in c:\\users\\skand\\anaconda3\\envs\\econgrowthug-builds-windows-pip\\lib\\site-packages (from cffi>=1.0.1->argon2-cffi-bindings->argon2-cffi->notebook>=6.0->RISE) (2.21)\n",
      "Requirement already satisfied: parso<0.9.0,>=0.8.0 in c:\\users\\skand\\anaconda3\\envs\\econgrowthug-builds-windows-pip\\lib\\site-packages (from jedi>=0.16->ipython>=7.23.1->ipykernel->notebook>=6.0->RISE) (0.8.3)\n",
      "Requirement already satisfied: wcwidth in c:\\users\\skand\\anaconda3\\envs\\econgrowthug-builds-windows-pip\\lib\\site-packages (from prompt-toolkit!=3.0.0,!=3.0.1,<3.1.0,>=2.0.0->ipython>=7.23.1->ipykernel->notebook>=6.0->RISE) (0.2.5)\n",
      "Installing collected packages: RISE\n",
      "Successfully installed RISE-5.7.1\n"
     ]
    }
   ],
   "source": [
    "!pip install RISE"
   ]
  }
 ],
 "metadata": {
  "celltoolbar": "Slideshow",
  "kernelspec": {
   "display_name": "Python 3 (ipykernel)",
   "language": "python",
   "name": "python3"
  },
  "language_info": {
   "codemirror_mode": {
    "name": "ipython",
    "version": 3
   },
   "file_extension": ".py",
   "mimetype": "text/x-python",
   "name": "python",
   "nbconvert_exporter": "python",
   "pygments_lexer": "ipython3",
   "version": "3.9.13"
  }
 },
 "nbformat": 4,
 "nbformat_minor": 5
}
